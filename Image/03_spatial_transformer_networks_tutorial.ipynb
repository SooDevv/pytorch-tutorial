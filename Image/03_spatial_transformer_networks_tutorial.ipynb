{
 "cells": [
  {
   "cell_type": "markdown",
   "metadata": {},
   "source": [
    "## Spartial transformer networks tutorial\n",
    "- How to augment network using a visual attention mechanism called spartial transformer networks.\n",
    "- Spatial transformer networks are a generalization of differentiable attention to any spatial transformation. Spatial transformer networks (STN for short) allow a neural network to learn how to perform spatial transformations on the input image in order to enhance the geometric invariance of the model. For example, it can crop a region of interest, scale and correct the orientation of an image. It can be a useful mechanism because CNNs are not invariant to rotation and scale and more general affine transformations.\n",
    "- [Paper](https://arxiv.org/abs/1506.02025)\n",
    "- [Blog](https://jamiekang.github.io/2017/05/27/spatial-transformer-networks/)\n",
    "\n",
    "- One of the best things about STN is the ability to simply plug it into any existing CNN with very little modification.\n",
    "\n"
   ]
  },
  {
   "cell_type": "code",
   "execution_count": 1,
   "metadata": {},
   "outputs": [],
   "source": [
    "from __future__ import print_function\n",
    "import torch\n",
    "import torch.nn as nn\n",
    "import torch.nn.functional as F\n",
    "import torch.optim as optim\n",
    "import torchvision\n",
    "from torchvision import datasets, transforms\n",
    "import matplotlib.pyplot as plt\n",
    "import numpy as np\n",
    "\n",
    "plt.ion()"
   ]
  },
  {
   "cell_type": "markdown",
   "metadata": {},
   "source": [
    "### Loading the data"
   ]
  },
  {
   "cell_type": "code",
   "execution_count": 2,
   "metadata": {},
   "outputs": [
    {
     "name": "stdout",
     "output_type": "stream",
     "text": [
      "Downloading http://yann.lecun.com/exdb/mnist/train-images-idx3-ubyte.gz to ./data/MNIST/raw/train-images-idx3-ubyte.gz\n"
     ]
    },
    {
     "name": "stderr",
     "output_type": "stream",
     "text": [
      "100.1%"
     ]
    },
    {
     "name": "stdout",
     "output_type": "stream",
     "text": [
      "Extracting ./data/MNIST/raw/train-images-idx3-ubyte.gz to ./data/MNIST/raw\n",
      "Downloading http://yann.lecun.com/exdb/mnist/train-labels-idx1-ubyte.gz to ./data/MNIST/raw/train-labels-idx1-ubyte.gz\n"
     ]
    },
    {
     "name": "stderr",
     "output_type": "stream",
     "text": [
      "113.5%"
     ]
    },
    {
     "name": "stdout",
     "output_type": "stream",
     "text": [
      "Extracting ./data/MNIST/raw/train-labels-idx1-ubyte.gz to ./data/MNIST/raw\n",
      "Downloading http://yann.lecun.com/exdb/mnist/t10k-images-idx3-ubyte.gz to ./data/MNIST/raw/t10k-images-idx3-ubyte.gz\n"
     ]
    },
    {
     "name": "stderr",
     "output_type": "stream",
     "text": [
      "100.4%"
     ]
    },
    {
     "name": "stdout",
     "output_type": "stream",
     "text": [
      "Extracting ./data/MNIST/raw/t10k-images-idx3-ubyte.gz to ./data/MNIST/raw\n",
      "Downloading http://yann.lecun.com/exdb/mnist/t10k-labels-idx1-ubyte.gz to ./data/MNIST/raw/t10k-labels-idx1-ubyte.gz\n"
     ]
    },
    {
     "name": "stderr",
     "output_type": "stream",
     "text": [
      "180.4%"
     ]
    },
    {
     "name": "stdout",
     "output_type": "stream",
     "text": [
      "Extracting ./data/MNIST/raw/t10k-labels-idx1-ubyte.gz to ./data/MNIST/raw\n",
      "Processing...\n",
      "Done!\n"
     ]
    }
   ],
   "source": [
    "device = torch.device(\"cuda\" if torch.cuda.is_available() else \"cpu\")\n",
    "\n",
    "# transform\n",
    "transforms = transforms.Compose([\n",
    "    transforms.ToTensor(),\n",
    "    transforms.Normalize((0.1307,), (0.3081,))\n",
    "])\n",
    "# Training dataset \n",
    "tr_dataset = datasets.MNIST(root='./data', train=True, download=True,\n",
    "                            transform=transforms)\n",
    "tst_dataset = datasets.MNIST(root='./data', train=False,\n",
    "                             transform=transforms)\n",
    "\n",
    "train_loader = torch.utils.data.DataLoader(dataset=tr_dataset,\n",
    "                                           batch_size=64,\n",
    "                                           shuffle=True,\n",
    "                                           num_workers=4)\n",
    "test_loader = torch.utils.data.DataLoader(dataset=tst_dataset,\n",
    "                                          batch_size=64,\n",
    "                                          shuffle=True,\n",
    "                                          num_workers=4)"
   ]
  },
  {
   "cell_type": "markdown",
   "metadata": {},
   "source": [
    "### Depicting spatial transformer networks \n",
    "Spatial transformer networks boils down to three main components\n",
    "- The localization network is a regular CNN which regress the transformation parameters. The transformation is never learned explicitly from the dataset, instead the network learns automatically the spatial transformations that enhances the global accuracy.\n",
    "- The grid generator generates a grid of coordinates in the input image corresponding to each pixel from the output image.\n",
    "- The sampler uses the parameters of the transformation and applies it to the input image."
   ]
  },
  {
   "cell_type": "code",
   "execution_count": 17,
   "metadata": {},
   "outputs": [],
   "source": [
    "class Net(nn.Module):\n",
    "    def __init__(self):\n",
    "        super(Net, self).__init__()\n",
    "        self.conv1 = nn.Conv2d(1, 10, 5)\n",
    "        self.conv2 = nn.Conv2d(10, 20, 5)\n",
    "        self.conv2_drop = nn.Dropout2d()\n",
    "        self.fc1 = nn.Linear(320, 50)\n",
    "        self.fc2 = nn.Linear(50, 10)\n",
    "        \n",
    "        # Spatial transformer localization-network\n",
    "        self.localization = nn.Sequential(\n",
    "            nn.Conv2d(1, 8, 7),\n",
    "            nn.MaxPool2d(2, stride=2),\n",
    "            nn.ReLU(True),\n",
    "            nn.Conv2d(8, 10, 5),\n",
    "            nn.MaxPool2d(2, stride=2),\n",
    "            nn.ReLU(True)\n",
    "        )\n",
    "        \n",
    "        # Regressor for the 3 * 2 affine matrix\n",
    "        self.fc_loc = nn.Sequential(\n",
    "            nn.Linear(10 *3 * 3, 32),\n",
    "            nn.ReLU(True),\n",
    "            nn.Linear(32, 3 * 2)\n",
    "        )\n",
    "        \n",
    "        # Initialize the weights/bias with identity transformation\n",
    "        self.fc_loc[2].weight.data.zero_()\n",
    "        self.fc_loc[2].bias.data.copy_(torch.tensor([1, 0, 0, 0, 1, 0], dtype=torch.float))\n",
    "        \n",
    "    \n",
    "    # Spatial transformer network forward function\n",
    "    def stn(self, x):\n",
    "        xs = self.localization(x)\n",
    "        xs = xs.view(-1, 10 *3 * 3)\n",
    "        theta = self.fc_loc(xs)\n",
    "        theta = theta.view(-1, 2, 3)\n",
    "        \n",
    "        grid = F.affine_grid(theta, x.size())\n",
    "        x = F.grid_sample(x, grid)\n",
    "        \n",
    "        return x \n",
    "    \n",
    "    def forward(self, x):\n",
    "        # transform the input\n",
    "        x = self.stn(x)\n",
    "        \n",
    "        # Perform the usual forward pass \n",
    "        x = F.relu(F.max_pool2d(self.conv1(x) ,2))\n",
    "        x = F.relu(F.max_pool2d(self.conv2_drop(self.conv2(x)), 2))\n",
    "        x = x.view(-1, 320)\n",
    "        x = F.relu(self.fc1(x))\n",
    "        x = F.dropout(x, training=self.training)\n",
    "        x = self.fc2(x)\n",
    "        return F.log_softmax(x, dim=1)"
   ]
  },
  {
   "cell_type": "code",
   "execution_count": 18,
   "metadata": {},
   "outputs": [],
   "source": [
    "model = Net().to(device)"
   ]
  },
  {
   "cell_type": "markdown",
   "metadata": {},
   "source": [
    "### Training the model "
   ]
  },
  {
   "cell_type": "code",
   "execution_count": 11,
   "metadata": {},
   "outputs": [],
   "source": [
    "optimizer = optim.SGD(model.parameters(), lr=0.01)\n",
    "\n",
    "def train(epoch):\n",
    "    model.train()\n",
    "    for batch_idx, (data, target) in enumerate(train_loader):\n",
    "        data, target = data.to(device), target.to(device)\n",
    "        \n",
    "        optimizer.zero_grad()\n",
    "        pred = model(data)\n",
    "        loss = F.nll_loss(pred, target) # The negative log likelihood loss.\n",
    "        loss.backward()\n",
    "        optimizer.step()\n",
    "        if batch_idx % 500 == 0:\n",
    "            print('Train Epoch: {} [{}/{} ({:.0f}%)]\\t Loss: {:.6f}'.format(\n",
    "                epoch, batch_idx * len(data), len(train_loader.dataset),\n",
    "                100. * batch_idx / len(train_loader), loss.item()\n",
    "            ))\n",
    "            \n",
    "\n",
    "def test():\n",
    "    with torch.no_grad():\n",
    "        model.eval()\n",
    "        test_loss = 0\n",
    "        correct = 0\n",
    "        for data, target in test_loader:\n",
    "            data, target = data.to(device), target.to(device)\n",
    "            output = model(data)\n",
    "            \n",
    "            # sum up batch loss\n",
    "            test_loss += F.nll_loss(output, target, size_average=False).item()\n",
    "            # get the index of the max log-probability\n",
    "            pred = output.max(1, keepdim=True)[1]\n",
    "            correct += pred.eq(target.view_as(pred)).sum().item()\n",
    "            \n",
    "        test_loss /= len(test_loader.dataset)\n",
    "        print('\\nTest set: Average loss: {:.4f}, Accuracy: {}/{} ({:.0f}%)\\n'\n",
    "             .format(test_loss, correct, len(test_loader.dataset),\n",
    "                    100. * correct / len(test_loader.dataset)))"
   ]
  },
  {
   "cell_type": "markdown",
   "metadata": {},
   "source": [
    "### Visualizing the STN results "
   ]
  },
  {
   "cell_type": "code",
   "execution_count": 12,
   "metadata": {},
   "outputs": [],
   "source": [
    "def convert_image_np(inp):\n",
    "    \"\"\"Convert a Tensor to numpy image.\"\"\"\n",
    "    inp = inp.numpy().transpose((1, 2, 0))\n",
    "    mean = np.array([0.485, 0.456, 0.406])\n",
    "    std = np.array([0.229, 0.224, 0.225])\n",
    "    inp = std * inp + mean\n",
    "    inp = np.clip(inp, 0, 1)\n",
    "    return inp\n",
    "\n",
    "\n",
    "# We want to visualize the output of the spatial transformers layer\n",
    "# after the training, we visualize a batch of input images and\n",
    "# the corresponding transformed batch using STN.\n",
    "def visualize_stn():\n",
    "    with torch.no_grad():\n",
    "        # Get a batch of training data\n",
    "        data = next(iter(test_loader))[0].to(device)\n",
    "\n",
    "        input_tensor = data.cpu()\n",
    "        transformed_input_tensor = model.stn(data).cpu()\n",
    "\n",
    "        in_grid = convert_image_np(\n",
    "            torchvision.utils.make_grid(input_tensor))\n",
    "\n",
    "        out_grid = convert_image_np(\n",
    "            torchvision.utils.make_grid(transformed_input_tensor))\n",
    "\n",
    "        # Plot the results side-by-side\n",
    "        f, axarr = plt.subplots(1, 2)\n",
    "        axarr[0].imshow(in_grid)\n",
    "        axarr[0].set_title('Dataset Images')\n",
    "\n",
    "        axarr[1].imshow(out_grid)\n",
    "        axarr[1].set_title('Transformed Images')"
   ]
  },
  {
   "cell_type": "code",
   "execution_count": 20,
   "metadata": {},
   "outputs": [
    {
     "name": "stdout",
     "output_type": "stream",
     "text": [
      "Train Epoch: 1 [0/60000 (0%)]\t Loss: 2.293521\n",
      "Train Epoch: 1 [32000/60000 (53%)]\t Loss: 2.332846\n"
     ]
    },
    {
     "name": "stderr",
     "output_type": "stream",
     "text": [
      "/usr/local/var/pyenv/versions/3.6.8/envs/pytorch/lib/python3.6/site-packages/torch/nn/_reduction.py:43: UserWarning: size_average and reduce args will be deprecated, please use reduction='sum' instead.\n",
      "  warnings.warn(warning.format(ret))\n"
     ]
    },
    {
     "name": "stdout",
     "output_type": "stream",
     "text": [
      "\n",
      "Test set: Average loss: 2.3232, Accuracy: 913/10000 (9%)\n",
      "\n",
      "Train Epoch: 2 [0/60000 (0%)]\t Loss: 2.346365\n",
      "Train Epoch: 2 [32000/60000 (53%)]\t Loss: 2.327427\n",
      "\n",
      "Test set: Average loss: 2.3232, Accuracy: 913/10000 (9%)\n",
      "\n",
      "Train Epoch: 3 [0/60000 (0%)]\t Loss: 2.282671\n",
      "Train Epoch: 3 [32000/60000 (53%)]\t Loss: 2.298414\n",
      "\n",
      "Test set: Average loss: 2.3232, Accuracy: 913/10000 (9%)\n",
      "\n",
      "Train Epoch: 4 [0/60000 (0%)]\t Loss: 2.325064\n",
      "Train Epoch: 4 [32000/60000 (53%)]\t Loss: 2.315041\n",
      "\n",
      "Test set: Average loss: 2.3232, Accuracy: 913/10000 (9%)\n",
      "\n",
      "Train Epoch: 5 [0/60000 (0%)]\t Loss: 2.331504\n",
      "Train Epoch: 5 [32000/60000 (53%)]\t Loss: 2.330110\n",
      "\n",
      "Test set: Average loss: 2.3232, Accuracy: 913/10000 (9%)\n",
      "\n",
      "Train Epoch: 6 [0/60000 (0%)]\t Loss: 2.330925\n",
      "Train Epoch: 6 [32000/60000 (53%)]\t Loss: 2.331265\n",
      "\n",
      "Test set: Average loss: 2.3232, Accuracy: 913/10000 (9%)\n",
      "\n",
      "Train Epoch: 7 [0/60000 (0%)]\t Loss: 2.297195\n",
      "Train Epoch: 7 [32000/60000 (53%)]\t Loss: 2.350878\n",
      "\n",
      "Test set: Average loss: 2.3232, Accuracy: 913/10000 (9%)\n",
      "\n",
      "Train Epoch: 8 [0/60000 (0%)]\t Loss: 2.320359\n",
      "Train Epoch: 8 [32000/60000 (53%)]\t Loss: 2.337810\n",
      "\n",
      "Test set: Average loss: 2.3232, Accuracy: 913/10000 (9%)\n",
      "\n",
      "Train Epoch: 9 [0/60000 (0%)]\t Loss: 2.327542\n",
      "Train Epoch: 9 [32000/60000 (53%)]\t Loss: 2.316953\n",
      "\n",
      "Test set: Average loss: 2.3232, Accuracy: 913/10000 (9%)\n",
      "\n",
      "Train Epoch: 10 [0/60000 (0%)]\t Loss: 2.340717\n",
      "Train Epoch: 10 [32000/60000 (53%)]\t Loss: 2.355071\n",
      "\n",
      "Test set: Average loss: 2.3232, Accuracy: 913/10000 (9%)\n",
      "\n",
      "Train Epoch: 11 [0/60000 (0%)]\t Loss: 2.327874\n",
      "Train Epoch: 11 [32000/60000 (53%)]\t Loss: 2.345176\n",
      "\n",
      "Test set: Average loss: 2.3232, Accuracy: 913/10000 (9%)\n",
      "\n",
      "Train Epoch: 12 [0/60000 (0%)]\t Loss: 2.312595\n",
      "Train Epoch: 12 [32000/60000 (53%)]\t Loss: 2.356807\n",
      "\n",
      "Test set: Average loss: 2.3232, Accuracy: 913/10000 (9%)\n",
      "\n",
      "Train Epoch: 13 [0/60000 (0%)]\t Loss: 2.293032\n",
      "Train Epoch: 13 [32000/60000 (53%)]\t Loss: 2.359803\n",
      "\n",
      "Test set: Average loss: 2.3232, Accuracy: 913/10000 (9%)\n",
      "\n",
      "Train Epoch: 14 [0/60000 (0%)]\t Loss: 2.325444\n",
      "Train Epoch: 14 [32000/60000 (53%)]\t Loss: 2.377547\n",
      "\n",
      "Test set: Average loss: 2.3232, Accuracy: 913/10000 (9%)\n",
      "\n",
      "Train Epoch: 15 [0/60000 (0%)]\t Loss: 2.317610\n",
      "Train Epoch: 15 [32000/60000 (53%)]\t Loss: 2.327361\n",
      "\n",
      "Test set: Average loss: 2.3232, Accuracy: 913/10000 (9%)\n",
      "\n",
      "Train Epoch: 16 [0/60000 (0%)]\t Loss: 2.340796\n",
      "Train Epoch: 16 [32000/60000 (53%)]\t Loss: 2.307220\n",
      "\n",
      "Test set: Average loss: 2.3232, Accuracy: 913/10000 (9%)\n",
      "\n",
      "Train Epoch: 17 [0/60000 (0%)]\t Loss: 2.327442\n",
      "Train Epoch: 17 [32000/60000 (53%)]\t Loss: 2.315445\n",
      "\n",
      "Test set: Average loss: 2.3232, Accuracy: 913/10000 (9%)\n",
      "\n",
      "Train Epoch: 18 [0/60000 (0%)]\t Loss: 2.331253\n",
      "Train Epoch: 18 [32000/60000 (53%)]\t Loss: 2.333970\n",
      "\n",
      "Test set: Average loss: 2.3232, Accuracy: 913/10000 (9%)\n",
      "\n",
      "Train Epoch: 19 [0/60000 (0%)]\t Loss: 2.324209\n",
      "Train Epoch: 19 [32000/60000 (53%)]\t Loss: 2.348233\n",
      "\n",
      "Test set: Average loss: 2.3232, Accuracy: 913/10000 (9%)\n",
      "\n",
      "Train Epoch: 20 [0/60000 (0%)]\t Loss: 2.322053\n",
      "Train Epoch: 20 [32000/60000 (53%)]\t Loss: 2.299771\n",
      "\n",
      "Test set: Average loss: 2.3232, Accuracy: 913/10000 (9%)\n",
      "\n"
     ]
    },
    {
     "data": {
      "image/png": "[encoded data removed]",
      "text/plain": [
       "<Figure size 432x288 with 2 Axes>"
      ]
     },
     "metadata": {
      "needs_background": "light"
     },
     "output_type": "display_data"
    }
   ],
   "source": [
    "for epoch in range(1, 20+1):\n",
    "    train(epoch)\n",
    "    test()\n",
    "\n",
    "visualize_stn()\n",
    "\n",
    "plt.ioff()\n",
    "plt.show()"
   ]
  },
  {
   "cell_type": "code",
   "execution_count": null,
   "metadata": {},
   "outputs": [],
   "source": []
  }
 ],
 "metadata": {
  "kernelspec": {
   "display_name": "Python 3",
   "language": "python",
   "name": "python3"
  },
  "language_info": {
   "codemirror_mode": {
    "name": "ipython",
    "version": 3
   },
   "file_extension": ".py",
   "mimetype": "text/x-python",
   "name": "python",
   "nbconvert_exporter": "python",
   "pygments_lexer": "ipython3",
   "version": "3.6.8"
  }
 },
 "nbformat": 4,
 "nbformat_minor": 2
}
